{
  "nbformat": 4,
  "nbformat_minor": 0,
  "metadata": {
    "colab": {
      "provenance": [],
      "gpuType": "T4"
    },
    "kernelspec": {
      "name": "python3",
      "display_name": "Python 3"
    },
    "language_info": {
      "name": "python"
    },
    "accelerator": "GPU"
  },
  "cells": [
    {
      "cell_type": "code",
      "execution_count": 1,
      "metadata": {
        "id": "LCzC9FNlekUV"
      },
      "outputs": [],
      "source": [
        "import torch\n",
        "import torch.nn as nn\n",
        "import torch.optim as optim\n",
        "from torch.utils.data import DataLoader\n",
        "import torchvision.datasets as datasets\n",
        "import torchvision.transforms as transform\n",
        "import matplotlib.pyplot as plt"
      ]
    },
    {
      "cell_type": "markdown",
      "source": [
        "Load MNIST dataset for the data loader"
      ],
      "metadata": {
        "id": "zdbACaNBfLo-"
      }
    },
    {
      "cell_type": "code",
      "source": [
        "train_set = datasets.MNIST(root = \" \",\n",
        "                           train = True,\n",
        "                           transform = transform.ToTensor(),\n",
        "                           download = True)\n",
        "\n",
        "test_set = datasets.MNIST(root = \" \",\n",
        "                           train = False,\n",
        "                           transform = transform.ToTensor(),\n",
        "                           download = True)"
      ],
      "metadata": {
        "id": "pSfNYnyIfcYj",
        "colab": {
          "base_uri": "https://localhost:8080/"
        },
        "outputId": "66140e35-07af-4694-bc82-4103361a87aa"
      },
      "execution_count": 2,
      "outputs": [
        {
          "output_type": "stream",
          "name": "stdout",
          "text": [
            "Downloading http://yann.lecun.com/exdb/mnist/train-images-idx3-ubyte.gz\n",
            "Downloading http://yann.lecun.com/exdb/mnist/train-images-idx3-ubyte.gz to  /MNIST/raw/train-images-idx3-ubyte.gz\n"
          ]
        },
        {
          "output_type": "stream",
          "name": "stderr",
          "text": [
            "100%|██████████| 9912422/9912422 [00:00<00:00, 143802374.97it/s]\n"
          ]
        },
        {
          "output_type": "stream",
          "name": "stdout",
          "text": [
            "Extracting  /MNIST/raw/train-images-idx3-ubyte.gz to  /MNIST/raw\n",
            "\n",
            "Downloading http://yann.lecun.com/exdb/mnist/train-labels-idx1-ubyte.gz\n",
            "Downloading http://yann.lecun.com/exdb/mnist/train-labels-idx1-ubyte.gz to  /MNIST/raw/train-labels-idx1-ubyte.gz\n"
          ]
        },
        {
          "output_type": "stream",
          "name": "stderr",
          "text": [
            "100%|██████████| 28881/28881 [00:00<00:00, 72710500.49it/s]\n"
          ]
        },
        {
          "output_type": "stream",
          "name": "stdout",
          "text": [
            "Extracting  /MNIST/raw/train-labels-idx1-ubyte.gz to  /MNIST/raw\n",
            "\n",
            "Downloading http://yann.lecun.com/exdb/mnist/t10k-images-idx3-ubyte.gz\n",
            "Downloading http://yann.lecun.com/exdb/mnist/t10k-images-idx3-ubyte.gz to  /MNIST/raw/t10k-images-idx3-ubyte.gz\n"
          ]
        },
        {
          "output_type": "stream",
          "name": "stderr",
          "text": [
            "100%|██████████| 1648877/1648877 [00:00<00:00, 45824883.36it/s]"
          ]
        },
        {
          "output_type": "stream",
          "name": "stdout",
          "text": [
            "Extracting  /MNIST/raw/t10k-images-idx3-ubyte.gz to  /MNIST/raw\n"
          ]
        },
        {
          "output_type": "stream",
          "name": "stderr",
          "text": [
            "\n"
          ]
        },
        {
          "output_type": "stream",
          "name": "stdout",
          "text": [
            "\n",
            "Downloading http://yann.lecun.com/exdb/mnist/t10k-labels-idx1-ubyte.gz\n",
            "Downloading http://yann.lecun.com/exdb/mnist/t10k-labels-idx1-ubyte.gz to  /MNIST/raw/t10k-labels-idx1-ubyte.gz\n"
          ]
        },
        {
          "output_type": "stream",
          "name": "stderr",
          "text": [
            "100%|██████████| 4542/4542 [00:00<00:00, 23724195.23it/s]"
          ]
        },
        {
          "output_type": "stream",
          "name": "stdout",
          "text": [
            "Extracting  /MNIST/raw/t10k-labels-idx1-ubyte.gz to  /MNIST/raw\n",
            "\n"
          ]
        },
        {
          "output_type": "stream",
          "name": "stderr",
          "text": [
            "\n"
          ]
        }
      ]
    },
    {
      "cell_type": "code",
      "source": [
        "print(\"No of class\", train_set.classes)"
      ],
      "metadata": {
        "colab": {
          "base_uri": "https://localhost:8080/"
        },
        "id": "5Xmlm4o_gLI-",
        "outputId": "aed69ef6-79e5-43b3-cf8e-dc4a14b84bd4"
      },
      "execution_count": 3,
      "outputs": [
        {
          "output_type": "stream",
          "name": "stdout",
          "text": [
            "No of class ['0 - zero', '1 - one', '2 - two', '3 - three', '4 - four', '5 - five', '6 - six', '7 - seven', '8 - eight', '9 - nine']\n"
          ]
        }
      ]
    },
    {
      "cell_type": "code",
      "source": [
        "print(\"train_set.data.shape\", train_set.data.shape)\n",
        "print(\"test_set.data.shape\", test_set.data.shape)"
      ],
      "metadata": {
        "colab": {
          "base_uri": "https://localhost:8080/"
        },
        "id": "hSzo-DJlgdEO",
        "outputId": "e1b4ad6d-8713-4977-e9fd-ae3a5481e73c"
      },
      "execution_count": 4,
      "outputs": [
        {
          "output_type": "stream",
          "name": "stdout",
          "text": [
            "train_set.data.shape torch.Size([60000, 28, 28])\n",
            "test_set.data.shape torch.Size([10000, 28, 28])\n"
          ]
        }
      ]
    },
    {
      "cell_type": "markdown",
      "source": [
        "data loader"
      ],
      "metadata": {
        "id": "XuvrLczpg8_V"
      }
    },
    {
      "cell_type": "code",
      "source": [
        "train_loader = DataLoader(train_set, batch_size= 64, shuffle = True)\n",
        "test_loader = DataLoader(test_set, batch_size= 64, shuffle = False)"
      ],
      "metadata": {
        "id": "NAV7Rr3Dg1t-"
      },
      "execution_count": 5,
      "outputs": []
    },
    {
      "cell_type": "markdown",
      "source": [
        "Visualize several MNIST datasets"
      ],
      "metadata": {
        "id": "OT8AzU1-MDTx"
      }
    },
    {
      "cell_type": "code",
      "source": [
        "for images, labels in train_loader:\n",
        "  print(images.shape , labels.shape)\n",
        "  break"
      ],
      "metadata": {
        "colab": {
          "base_uri": "https://localhost:8080/"
        },
        "id": "zgWe5lqhhTYb",
        "outputId": "99feb4b5-e5c1-4e2d-d4d8-8a6cef9fb093"
      },
      "execution_count": 6,
      "outputs": [
        {
          "output_type": "stream",
          "name": "stdout",
          "text": [
            "torch.Size([64, 1, 28, 28]) torch.Size([64])\n"
          ]
        }
      ]
    },
    {
      "cell_type": "markdown",
      "source": [
        "data visualizing"
      ],
      "metadata": {
        "id": "tRnVl4wYhlNz"
      }
    },
    {
      "cell_type": "code",
      "source": [
        "dataiter = iter(train_loader)\n",
        "for i in range(1):\n",
        "    images, labels = next(dataiter)\n",
        "    print(images.shape, labels.shape)"
      ],
      "metadata": {
        "colab": {
          "base_uri": "https://localhost:8080/"
        },
        "id": "SjLQC9TfiV9i",
        "outputId": "d6a4b915-af47-43f5-a7ab-b1cfec968d2c"
      },
      "execution_count": 7,
      "outputs": [
        {
          "output_type": "stream",
          "name": "stdout",
          "text": [
            "torch.Size([64, 1, 28, 28]) torch.Size([64])\n"
          ]
        }
      ]
    },
    {
      "cell_type": "code",
      "source": [
        "figure = plt.figure()\n",
        "num_of_images= 20\n",
        "\n",
        "for index in range(1 , num_of_images):\n",
        "  plt.subplot(5,5, index)\n",
        "  plt.axis(\"off\")\n",
        "  plt.imshow(images[index].numpy().squeeze(), cmap = \"gray_r\")"
      ],
      "metadata": {
        "colab": {
          "base_uri": "https://localhost:8080/",
          "height": 330
        },
        "id": "SV54KmbWijAD",
        "outputId": "dd81e600-1e13-43ee-8000-3e553f941945"
      },
      "execution_count": 8,
      "outputs": [
        {
          "output_type": "display_data",
          "data": {
            "text/plain": [
              "<Figure size 640x480 with 19 Axes>"
            ],
            "image/png": "[encoded data removed]"
          },
          "metadata": {}
        }
      ]
    },
    {
      "cell_type": "markdown",
      "source": [
        "ANN model"
      ],
      "metadata": {
        "id": "Th-yqJkwjakG"
      }
    },
    {
      "cell_type": "code",
      "source": [
        "class ANN(nn.Module):\n",
        "  def __init__(self):\n",
        "    super(ANN, self).__init__()\n",
        "\n",
        "    self.fc1 = nn.Linear(28*28, 256)\n",
        "    self.fc2 = nn.Linear(256, 128)\n",
        "    self.fc3 = nn.Linear(128, 64)\n",
        "    self.fc4 = nn.Linear(64, 10)\n",
        "\n",
        "    self.relu = nn.ReLU()\n",
        "\n",
        "  def forward(self , x):\n",
        "\n",
        "    out = x.view(-1 , 28*28)\n",
        "    out = self.fc1(out)\n",
        "    out = self.relu(out)\n",
        "    out = self.fc2(out)\n",
        "    out = self.relu(out)\n",
        "    out = self.fc3(out)\n",
        "    out = self.relu(out)\n",
        "    out = self.fc4(out)\n",
        "\n",
        "    return out"
      ],
      "metadata": {
        "id": "0FjOJURxjXy6"
      },
      "execution_count": 9,
      "outputs": []
    },
    {
      "cell_type": "code",
      "source": [
        "model = ANN()\n",
        "\n",
        "loss_fn = nn.CrossEntropyLoss()\n",
        "optimizer = optim.SGD(model.parameters(), lr = 0.001)"
      ],
      "metadata": {
        "id": "5NPQQsOfk1Fw"
      },
      "execution_count": 10,
      "outputs": []
    },
    {
      "cell_type": "markdown",
      "source": [
        "training the model"
      ],
      "metadata": {
        "id": "7QoDn-Cgq3fx"
      }
    },
    {
      "cell_type": "code",
      "source": [
        "epochs = 10\n",
        "\n",
        "training_loss = []\n",
        "testing_loss = []\n",
        "training_acc = []\n",
        "testing_acc = []\n",
        "\n",
        "for epoch in range(epochs):\n",
        "  train_loss = 0.0\n",
        "  train_acc = 0.0\n",
        "\n",
        "  model.train()\n",
        "  for images , labels in train_loader:\n",
        "    output = model(images)\n",
        "\n",
        "    optimizer.zero_grad()\n",
        "\n",
        "    loss = loss_fn(output, labels)\n",
        "\n",
        "    loss.backward()\n",
        "    optimizer.step()\n",
        "\n",
        "    prediction = torch.argmax(output, 1)\n",
        "\n",
        "    train_acc += (prediction == labels).sum().item()\n",
        "    train_loss += loss.item()\n",
        "\n",
        "  training_acc.append(train_acc/len(train_set))\n",
        "  training_loss.append(train_loss/len(train_loader))\n",
        "\n",
        "  test_loss = 0.0\n",
        "  test_acc = 0.0\n",
        "\n",
        "  with torch.no_grad():\n",
        "    for images, labels in test_loader:\n",
        "      output = model(images)\n",
        "      loss = loss_fn(output, labels)\n",
        "      prediction = torch.argmax(output, 1)\n",
        "\n",
        "    test_acc += (prediction == labels).sum().item()\n",
        "    test_loss += loss.item()\n",
        "\n",
        "  testing_acc.append(train_acc/len(test_set))\n",
        "  testing_loss.append(train_loss/len(test_loader))\n",
        "\n",
        "  print (\"Epoch {}, Training Accuracy {}, Training Loss {}, Testing Loss{}\".format(\n",
        "      epoch+1 , train_acc/len(train_set), test_acc/len(test_set), train_loss/len(train_loader), test_loss/len(test_loader)\n",
        "  ))\n",
        "\n"
      ],
      "metadata": {
        "colab": {
          "base_uri": "https://localhost:8080/"
        },
        "id": "I_tCULxeq6yg",
        "outputId": "cc8d469b-725b-4355-8992-8fc476650e24"
      },
      "execution_count": 11,
      "outputs": [
        {
          "output_type": "stream",
          "name": "stdout",
          "text": [
            "Epoch 1, Training Accuracy 0.1141, Training Loss 0.0002, Testing Loss2.3018657401172335\n",
            "Epoch 2, Training Accuracy 0.12131666666666667, Training Loss 0.0002, Testing Loss2.294769640670402\n",
            "Epoch 3, Training Accuracy 0.15001666666666666, Training Loss 0.0003, Testing Loss2.2864364614364687\n",
            "Epoch 4, Training Accuracy 0.19995, Training Loss 0.0003, Testing Loss2.2757638420885815\n",
            "Epoch 5, Training Accuracy 0.24858333333333332, Training Loss 0.0005, Testing Loss2.261571861025113\n",
            "Epoch 6, Training Accuracy 0.4069, Training Loss 0.001, Testing Loss2.241337714927283\n",
            "Epoch 7, Training Accuracy 0.5508333333333333, Training Loss 0.0011, Testing Loss2.2104602879298523\n",
            "Epoch 8, Training Accuracy 0.6109, Training Loss 0.0011, Testing Loss2.160235590009547\n",
            "Epoch 9, Training Accuracy 0.6175166666666667, Training Loss 0.0012, Testing Loss2.0736272089771117\n",
            "Epoch 10, Training Accuracy 0.6034833333333334, Training Loss 0.0012, Testing Loss1.9248822042936964\n"
          ]
        }
      ]
    },
    {
      "cell_type": "code",
      "source": [
        "plt.plot(range(epochs), training_acc, label = \"train_acc\")\n",
        "plt.plot(range(epochs), testing_acc, label = \"test_acc\")\n",
        "plt.legend()\n",
        "plt.xlabel(\"epochs\")\n",
        "plt.ylabel(\"training/testing accuracy\")\n",
        "plt.plot()"
      ],
      "metadata": {
        "colab": {
          "base_uri": "https://localhost:8080/",
          "height": 467
        },
        "id": "mD0DSzu7wdB-",
        "outputId": "98b18e87-07b8-4fe7-f78c-9c3bae53b390"
      },
      "execution_count": 12,
      "outputs": [
        {
          "output_type": "execute_result",
          "data": {
            "text/plain": [
              "[]"
            ]
          },
          "metadata": {},
          "execution_count": 12
        },
        {
          "output_type": "display_data",
          "data": {
            "text/plain": [
              "<Figure size 640x480 with 1 Axes>"
            ],
            "image/png": "[encoded data removed]"
          },
          "metadata": {}
        }
      ]
    }
  ]
}